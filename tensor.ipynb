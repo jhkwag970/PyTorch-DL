{
 "cells": [
  {
   "cell_type": "markdown",
   "metadata": {},
   "source": [
    "# PyTorch Basic \n",
    "\n",
    "<hr>\n",
    "\n",
    "## What is PyTorch\n",
    "\n",
    "PyTorch is an open source framework for machine learning (ML) and Deap Learning (DL) implementation.\n",
    "\n",
    "There are various frameworks such as Detectron2, mmdetection that build upon PyTorch to make DL processs more easier. We will see these frameworks later on.\n",
    "\n",
    "## PyTorch Tensor\n",
    "\n",
    "Tensor is basic unit for handling numerical data for DL processing. By applying arithmetic operations, especially dot product, DL can update weights and bias of the neural network to train the model. We will see specific steps on building neural network, predicting result, computing loss function, and updating weights and bias. But in this note, I will only focus on how to use tensor through PyTorch."
   ]
  },
  {
   "cell_type": "markdown",
   "metadata": {},
   "source": [
    "# PyTorch Tensor\n",
    "\n",
    "<hr>\n",
    "\n",
    "## Import PyTorch and Check Version\n",
    "\n",
    "Let's Start with importing PyTorch and checking PyTorch Version"
   ]
  },
  {
   "cell_type": "code",
   "execution_count": 60,
   "metadata": {},
   "outputs": [
    {
     "data": {
      "text/plain": [
       "'1.9.1+cu111'"
      ]
     },
     "execution_count": 60,
     "metadata": {},
     "output_type": "execute_result"
    }
   ],
   "source": [
    "import torch\n",
    "torch.__version__"
   ]
  },
  {
   "cell_type": "markdown",
   "metadata": {},
   "source": [
    "## 1. Scalar\n",
    "\n",
    "A Scalar is a single number like 0, 1, 2 ... However, it is in tensor form with a sero dimension tensor."
   ]
  },
  {
   "cell_type": "code",
   "execution_count": 61,
   "metadata": {},
   "outputs": [
    {
     "name": "stdout",
     "output_type": "stream",
     "text": [
      "Scalar:  tensor(1)\n",
      "Scalar Dimension:  0\n",
      "Scalar item:  1\n"
     ]
    }
   ],
   "source": [
    "scalar = torch.tensor(1)\n",
    "print(\"Scalar: \", scalar)\n",
    "print(\"Scalar Dimension: \", scalar.ndim)\n",
    "print(\"Scalar item: \", scalar.item()) #Retrieving the number from the tensor. Only works for tensor with one element"
   ]
  },
  {
   "cell_type": "markdown",
   "metadata": {},
   "source": [
    "## 2. Vector\n",
    "\n",
    "From high school, you should rememeber what is a vector. A vector is a single dimension tensor but contains several numbers. If you are familar with programming, it is more of a like list, but in tensor form. "
   ]
  },
  {
   "cell_type": "code",
   "execution_count": 62,
   "metadata": {},
   "outputs": [
    {
     "name": "stdout",
     "output_type": "stream",
     "text": [
      "Vector:  tensor([7, 7])\n",
      "Vector Dimension:  1\n",
      "Vector Shape:  torch.Size([2])\n"
     ]
    }
   ],
   "source": [
    "vector = torch.tensor([7,7])\n",
    "print(\"Vector: \", vector)\n",
    "print(\"Vector Dimension: \", vector.ndim)\n",
    "print(\"Vector Shape: \", vector.shape) \n",
    "#shape returns number of element in 1 dimension tensor"
   ]
  },
  {
   "cell_type": "markdown",
   "metadata": {},
   "source": [
    "## 3. Matrix\n",
    "\n",
    "Let's move further down to matrix. You can think of matrix as concanation of multiple list in column-wise or stacking multiple lists on top of each other. Matrix is two dimension tensor. "
   ]
  },
  {
   "cell_type": "code",
   "execution_count": 63,
   "metadata": {},
   "outputs": [
    {
     "name": "stdout",
     "output_type": "stream",
     "text": [
      "Matrix: \n",
      "tensor([[ 7,  8,  9],\n",
      "        [10, 11, 12]])\n",
      "Matrix Dimension:  2\n",
      "Matrix Shape:  torch.Size([2, 3])\n"
     ]
    }
   ],
   "source": [
    "matrix = torch.tensor([[7,8, 9],\n",
    "                      [10,11,12]])\n",
    "print(\"Matrix: \")\n",
    "print(matrix)\n",
    "print(\"Matrix Dimension: \", matrix.ndim)\n",
    "print(\"Matrix Shape: \", matrix.shape) #First item represent number of rows, second item represent number of columns of the matrix"
   ]
  },
  {
   "cell_type": "markdown",
   "metadata": {},
   "source": [
    "## 4. Tensor\n",
    "\n",
    "Now, some of you might never heard about tensor. In my case, I never heard about tensor including my high school and college, even though I am CS major :(\n",
    "\n",
    "Easy way to think of tensor is stacking the multiple matrix like a book. You can think of each page is a maxtrix with numbers. Then your are stacking matrix on top of each other which makes a book! Then, we can call book itself is a tensor. Tensor is three dimension tensor \"<b>tensor</b>\" :)"
   ]
  },
  {
   "cell_type": "code",
   "execution_count": 64,
   "metadata": {},
   "outputs": [
    {
     "name": "stdout",
     "output_type": "stream",
     "text": [
      "Tensor:\n",
      "tensor([[[ 1,  2,  3],\n",
      "         [ 4,  5,  6],\n",
      "         [ 7,  8,  9]],\n",
      "\n",
      "        [[10, 11, 12],\n",
      "         [13, 14, 15],\n",
      "         [16, 17, 18]]])\n",
      "Tensor Dimension:  3\n",
      "Tensor Shape:  torch.Size([2, 3, 3])\n"
     ]
    }
   ],
   "source": [
    "tensor = torch.tensor([[[1, 2, 3],  #First page of the book\n",
    "                        [4, 5, 6],\n",
    "                        [7, 8, 9]],\n",
    "                       [[10,11,12], #Second page of the book\n",
    "                        [13,14,15],\n",
    "                        [16,17,18]]])\n",
    "print(\"Tensor:\")\n",
    "print(tensor)\n",
    "print(\"Tensor Dimension: \" ,tensor.ndim)\n",
    "print(\"Tensor Shape: \", tensor.shape)\n",
    "#Fist item is number of page, second Item is number of rows, Third item is number of column\n",
    "#Note that number of column, number of row must be same for all pages \n"
   ]
  },
  {
   "cell_type": "markdown",
   "metadata": {},
   "source": [
    "# Useful PyTorch Libary\n",
    "\n",
    "<hr>\n",
    "\n",
    "PyTorch also has various useful libaries for generating random tensor, changing shape from one dimension to other dimension. These are useful when you start implementing DL for weight calcuations and predicting results :)\n",
    "\n"
   ]
  },
  {
   "cell_type": "markdown",
   "metadata": {},
   "source": [
    "## Random Tensor\n",
    "\n",
    "Random Tensor library assigned arbitary values into the tensor size you choose. You will see these random tensor vary often when you are initializing the weights of the baisc neural network. Specific detail about weight initialization will be discussed on in basic neural network part."
   ]
  },
  {
   "cell_type": "markdown",
   "metadata": {},
   "source": [
    "### 1. Vector (+ Scalar)"
   ]
  },
  {
   "cell_type": "code",
   "execution_count": 65,
   "metadata": {},
   "outputs": [
    {
     "name": "stdout",
     "output_type": "stream",
     "text": [
      "Random1: \n",
      "tensor([0.0301, 0.4753, 0.6493])\n",
      "Random1 Dimension:  1\n",
      "Random1 Shape:  torch.Size([3])\n",
      "Random1 data type:  torch.float32\n"
     ]
    }
   ],
   "source": [
    "random1 = torch.rand(3) \n",
    "#Generating 3 column \"Vector\" tensor\n",
    "#When you put size \"1\" it generate size 1 \"Vector\" tensor. However, it can be treated as scalar.\n",
    "print(\"Random1: \")\n",
    "print(random1)\n",
    "print(\"Random1 Dimension: \", random1.ndim)\n",
    "print(\"Random1 Shape: \", random1.shape)\n",
    "print(\"Random1 data type: \", random1.dtype)\n",
    "#Basic dtype of rand library is Float32. There are various dtype you can find in PyTorch website."
   ]
  },
  {
   "cell_type": "markdown",
   "metadata": {},
   "source": [
    "### 2. Matrix"
   ]
  },
  {
   "cell_type": "code",
   "execution_count": 66,
   "metadata": {},
   "outputs": [
    {
     "name": "stdout",
     "output_type": "stream",
     "text": [
      "Random2: \n",
      "tensor([[0.9407, 0.0456],\n",
      "        [0.7313, 0.6886],\n",
      "        [0.3951, 0.7675]])\n",
      "Random2 Dimension:  2\n",
      "Random2 Shape:  torch.Size([3, 2])\n",
      "Random2 data type:  torch.float32\n"
     ]
    }
   ],
   "source": [
    "random2 = torch.rand(size=(3,2)) \n",
    "#generating 3 rows, 2 column \"Matrix\" tensor\n",
    "print(\"Random2: \")\n",
    "print(random2)\n",
    "print(\"Random2 Dimension: \", random2.ndim)\n",
    "print(\"Random2 Shape: \", random2.shape)\n",
    "print(\"Random2 data type: \", random2.dtype)"
   ]
  },
  {
   "cell_type": "markdown",
   "metadata": {},
   "source": [
    "### 3. Tensor"
   ]
  },
  {
   "cell_type": "code",
   "execution_count": 67,
   "metadata": {},
   "outputs": [
    {
     "name": "stdout",
     "output_type": "stream",
     "text": [
      "Random3: \n",
      "tensor([[[0.2408, 0.2619],\n",
      "         [0.3795, 0.5457],\n",
      "         [0.5724, 0.5800]],\n",
      "\n",
      "        [[0.7716, 0.1713],\n",
      "         [0.3952, 0.8441],\n",
      "         [0.3990, 0.1870]]])\n",
      "Random3 Dimension:  3\n",
      "Random3 Shape:  torch.Size([2, 3, 2])\n",
      "Random3 data type:  torch.float32\n"
     ]
    }
   ],
   "source": [
    "random3 = torch.rand(size=(2,3,2)) \n",
    "#Generating 2 dimension, 3 rows, 2 column \"Tensor\" tensor\n",
    "print(\"Random3: \")\n",
    "print(random3)\n",
    "print(\"Random3 Dimension: \", random3.ndim)\n",
    "print(\"Random3 Shape: \", random3.shape)\n",
    "print(\"Random3 data type: \", random3.dtype)"
   ]
  },
  {
   "cell_type": "markdown",
   "metadata": {},
   "source": [
    "# Zeros and Ones\n",
    "\n",
    "Sometimes when are \"masking\" weight (which means manipulating weight for special purpose), we need zero or one values of tensor. This work exactly the same way as random tensor library. "
   ]
  },
  {
   "cell_type": "markdown",
   "metadata": {},
   "source": [
    "### 1. Vector (+ Scalar)"
   ]
  },
  {
   "cell_type": "code",
   "execution_count": 68,
   "metadata": {},
   "outputs": [
    {
     "name": "stdout",
     "output_type": "stream",
     "text": [
      "Zeros1: \n",
      "tensor([0., 0., 0.])\n",
      "Zeros1 Dimension:  1\n",
      "Zeros1 Shape:  torch.Size([3])\n",
      "Zeros1 data type:  torch.float32\n",
      "----------------------------------\n",
      "Ones1: \n",
      "tensor([1., 1., 1.])\n",
      "Ones1 Dimension:  1\n",
      "Ones1 Shape:  torch.Size([3])\n",
      "Ones1 data type:  torch.float32\n"
     ]
    }
   ],
   "source": [
    "zeros1 = torch.zeros(3)\n",
    "print(\"Zeros1: \")\n",
    "print(zeros1)\n",
    "print(\"Zeros1 Dimension: \", zeros1.ndim)\n",
    "print(\"Zeros1 Shape: \", zeros1.shape)\n",
    "print(\"Zeros1 data type: \", zeros1.dtype)\n",
    "print(\"----------------------------------\")\n",
    "ones1 = torch.ones(3)\n",
    "print(\"Ones1: \")\n",
    "print(ones1)\n",
    "print(\"Ones1 Dimension: \", ones1.ndim)\n",
    "print(\"Ones1 Shape: \", ones1.shape)\n",
    "print(\"Ones1 data type: \", ones1.dtype)"
   ]
  },
  {
   "cell_type": "markdown",
   "metadata": {},
   "source": [
    "### 2. Matrix"
   ]
  },
  {
   "cell_type": "code",
   "execution_count": 69,
   "metadata": {},
   "outputs": [
    {
     "name": "stdout",
     "output_type": "stream",
     "text": [
      "Zeros2: \n",
      "tensor([[0., 0.],\n",
      "        [0., 0.],\n",
      "        [0., 0.]])\n",
      "Zeros2 Dimension:  2\n",
      "Zeros2 Shape:  torch.Size([3, 2])\n",
      "Zeros2 data type:  torch.float32\n",
      "----------------------------------\n",
      "Ones2: \n",
      "tensor([[1., 1.],\n",
      "        [1., 1.],\n",
      "        [1., 1.]])\n",
      "Ones2 Dimension:  2\n",
      "Ones2 Shape:  torch.Size([3, 2])\n",
      "Ones2 data type:  torch.float32\n"
     ]
    }
   ],
   "source": [
    "zeros2 = torch.zeros(3,2)\n",
    "print(\"Zeros2: \")\n",
    "print(zeros2)\n",
    "print(\"Zeros2 Dimension: \", zeros2.ndim)\n",
    "print(\"Zeros2 Shape: \", zeros2.shape)\n",
    "print(\"Zeros2 data type: \", zeros2.dtype)\n",
    "print(\"----------------------------------\")\n",
    "ones2 = torch.ones(3,2)\n",
    "print(\"Ones2: \")\n",
    "print(ones2)\n",
    "print(\"Ones2 Dimension: \", ones2.ndim)\n",
    "print(\"Ones2 Shape: \", ones2.shape)\n",
    "print(\"Ones2 data type: \", ones2.dtype)"
   ]
  },
  {
   "cell_type": "markdown",
   "metadata": {},
   "source": [
    "### 3. Tensor"
   ]
  },
  {
   "cell_type": "code",
   "execution_count": 70,
   "metadata": {},
   "outputs": [
    {
     "name": "stdout",
     "output_type": "stream",
     "text": [
      "Zeros3: \n",
      "tensor([[[0., 0.],\n",
      "         [0., 0.],\n",
      "         [0., 0.]],\n",
      "\n",
      "        [[0., 0.],\n",
      "         [0., 0.],\n",
      "         [0., 0.]]])\n",
      "Zeros3 Dimension:  3\n",
      "Zeros3 Shape:  torch.Size([2, 3, 2])\n",
      "Zeros3 data type:  torch.float32\n",
      "----------------------------------\n",
      "Ones3: \n",
      "tensor([[[1., 1.],\n",
      "         [1., 1.],\n",
      "         [1., 1.]],\n",
      "\n",
      "        [[1., 1.],\n",
      "         [1., 1.],\n",
      "         [1., 1.]]])\n",
      "Ones3 Dimension:  3\n",
      "Ones3 Shape:  torch.Size([2, 3, 2])\n",
      "Ones3 data type:  torch.float32\n"
     ]
    }
   ],
   "source": [
    "zeros3 = torch.zeros(2, 3,2)\n",
    "print(\"Zeros3: \")\n",
    "print(zeros3)\n",
    "print(\"Zeros3 Dimension: \", zeros3.ndim)\n",
    "print(\"Zeros3 Shape: \", zeros3.shape)\n",
    "print(\"Zeros3 data type: \", zeros3.dtype)\n",
    "print(\"----------------------------------\")\n",
    "ones3 = torch.ones(2,3,2)\n",
    "print(\"Ones3: \")\n",
    "print(ones3)\n",
    "print(\"Ones3 Dimension: \", ones3.ndim)\n",
    "print(\"Ones3 Shape: \", ones3.shape)\n",
    "print(\"Ones3 data type: \", ones3.dtype)"
   ]
  },
  {
   "cell_type": "markdown",
   "metadata": {},
   "source": [
    "## Ranging Tensors\n",
    "\n",
    "Rangind tensor library enables user to set start and end number with specific step to generate the tensor. "
   ]
  }
 ],
 "metadata": {
  "kernelspec": {
   "display_name": "maptr",
   "language": "python",
   "name": "python3"
  },
  "language_info": {
   "codemirror_mode": {
    "name": "ipython",
    "version": 3
   },
   "file_extension": ".py",
   "mimetype": "text/x-python",
   "name": "python",
   "nbconvert_exporter": "python",
   "pygments_lexer": "ipython3",
   "version": "3.8.18"
  }
 },
 "nbformat": 4,
 "nbformat_minor": 2
}
