{
 "cells": [
  {
   "cell_type": "markdown",
   "metadata": {},
   "source": [
    "# PyTorch Basic \n",
    "\n",
    "<hr>\n",
    "\n",
    "## What is PyTorch\n",
    "\n",
    "PyTorch is an open source framework for machine learning (ML) and Deap Learning (DL) implementation.\n",
    "\n",
    "There are various frameworks such as Detectron2, mmdetection that build upon PyTorch to make DL processs more easier. We will see these frameworks later on.\n",
    "\n",
    "## PyTorch Tensor\n",
    "\n",
    "Tensor is basic unit for handling numerical data for DL processing. By applying arithmetic operations, especially dot product, DL can update weights and bias of the neural network to train the model. We will see specific steps on building neural network, predicting result, computing loss function, and updating weights and bias. But in this note, I will only focus on how to use tensor through PyTorch."
   ]
  },
  {
   "cell_type": "markdown",
   "metadata": {},
   "source": [
    "# PyTorch Tensor\n",
    "\n",
    "<hr>\n",
    "\n",
    "## Import PyTorch and Check Version\n",
    "\n",
    "Let's Start with importing PyTorch and checking PyTorch Version"
   ]
  },
  {
   "cell_type": "code",
   "execution_count": 26,
   "metadata": {},
   "outputs": [
    {
     "data": {
      "text/plain": [
       "'1.9.1+cu111'"
      ]
     },
     "execution_count": 26,
     "metadata": {},
     "output_type": "execute_result"
    }
   ],
   "source": [
    "import torch\n",
    "torch.__version__"
   ]
  },
  {
   "cell_type": "markdown",
   "metadata": {},
   "source": [
    "## 1. Scalar\n",
    "\n",
    "A Scalar is a single number like 0, 1, 2 ... However, it is in tensor form with a sero dimension tensor."
   ]
  },
  {
   "cell_type": "code",
   "execution_count": 27,
   "metadata": {},
   "outputs": [
    {
     "name": "stdout",
     "output_type": "stream",
     "text": [
      "Scalar:  tensor(1)\n",
      "Scalar Dimension:  0\n",
      "Scalar item:  1\n"
     ]
    }
   ],
   "source": [
    "scalar = torch.tensor(1)\n",
    "print(\"Scalar: \", scalar)\n",
    "print(\"Scalar Dimension: \", scalar.ndim)\n",
    "print(\"Scalar item: \", scalar.item()) #Retrieving the number from the tensor. Only works for tensor with one element"
   ]
  },
  {
   "cell_type": "markdown",
   "metadata": {},
   "source": [
    "## 2. Vector\n",
    "\n",
    "From high school, you should rememeber what is a vector. A vector is a single dimension tensor but contains several numbers. If you are familar with programming, it is more of a like list, but in tensor form. "
   ]
  },
  {
   "cell_type": "code",
   "execution_count": 28,
   "metadata": {},
   "outputs": [
    {
     "name": "stdout",
     "output_type": "stream",
     "text": [
      "Vector:  tensor([7, 7])\n",
      "Vector Dimension:  1\n",
      "Vector Shape:  torch.Size([2])\n"
     ]
    }
   ],
   "source": [
    "vector = torch.tensor([7,7])\n",
    "print(\"Vector: \", vector)\n",
    "print(\"Vector Dimension: \", vector.ndim)\n",
    "print(\"Vector Shape: \", vector.shape) #shape returns number of element in 1 dimension tensor"
   ]
  },
  {
   "cell_type": "markdown",
   "metadata": {},
   "source": [
    "## 3. Matrix\n",
    "\n",
    "Let's move further down to matrix. You can think of matrix as concanation of multiple list in column-wise or stacking multiple lists on top of each other. Matrix is two dimension tensor. "
   ]
  },
  {
   "cell_type": "code",
   "execution_count": 29,
   "metadata": {},
   "outputs": [
    {
     "name": "stdout",
     "output_type": "stream",
     "text": [
      "Matrix: \n",
      "tensor([[ 7,  8,  9],\n",
      "        [10, 11, 12]])\n",
      "Matrix Dimension:  2\n",
      "Matrix Shape:  torch.Size([2, 3])\n"
     ]
    }
   ],
   "source": [
    "matrix = torch.tensor([[7,8, 9],\n",
    "                      [10,11,12]])\n",
    "print(\"Matrix: \")\n",
    "print(matrix)\n",
    "print(\"Matrix Dimension: \", matrix.ndim)\n",
    "print(\"Matrix Shape: \", matrix.shape) #First item represent number of rows, second item represent number of columns of the matrix"
   ]
  },
  {
   "cell_type": "markdown",
   "metadata": {},
   "source": [
    "## 4. Tensor\n",
    "\n",
    "Now, some of you might never heard about tensor. In my case, I never heard about tensor including my high school and college, even though I am CS major :(\n",
    "\n",
    "Easy way to think of tensor is stacking the multiple matrix like a book. You can think of each page is a maxtrix with numbers. Then your are stacking matrix on top of each other which makes a book! Then, we can call book itself is a tensor. Tensor is three dimension tensor \"<b>tensor</b>\" :)"
   ]
  },
  {
   "cell_type": "code",
   "execution_count": 31,
   "metadata": {},
   "outputs": [
    {
     "name": "stdout",
     "output_type": "stream",
     "text": [
      "Tensor:\n",
      "tensor([[[ 1,  2,  3],\n",
      "         [ 4,  5,  6],\n",
      "         [ 7,  8,  9]],\n",
      "\n",
      "        [[10, 11, 12],\n",
      "         [13, 14, 15],\n",
      "         [16, 17, 18]]])\n",
      "Tensor Dimension:  3\n",
      "Tensor Shape:  torch.Size([2, 3, 3])\n"
     ]
    }
   ],
   "source": [
    "tensor = torch.tensor([[[1, 2, 3],  #First page of the book\n",
    "                        [4, 5, 6],\n",
    "                        [7, 8, 9]],\n",
    "                       [[10,11,12], #Second page of the book\n",
    "                        [13,14,15],\n",
    "                        [16,17,18]]])\n",
    "print(\"Tensor:\")\n",
    "print(tensor)\n",
    "print(\"Tensor Dimension: \" ,tensor.ndim)\n",
    "print(\"Tensor Shape: \", tensor.shape)\n",
    "#Fist item is number of page, second Item is number of rows, Third item is number of column\n",
    "#Note that number of column, number of row must be same for all pages \n"
   ]
  },
  {
   "cell_type": "markdown",
   "metadata": {},
   "source": [
    "# Useful PyTorch Libary\n",
    "\n",
    "<hr>\n",
    "\n",
    "PyTorch also has various useful libaries for generating random tensor, changing shape from one dimension to other dimension. These are useful when you start implementing DL for weight calcuations and predicting results :)\n",
    "\n"
   ]
  },
  {
   "cell_type": "code",
   "execution_count": null,
   "metadata": {},
   "outputs": [],
   "source": []
  }
 ],
 "metadata": {
  "kernelspec": {
   "display_name": "maptr",
   "language": "python",
   "name": "python3"
  },
  "language_info": {
   "codemirror_mode": {
    "name": "ipython",
    "version": 3
   },
   "file_extension": ".py",
   "mimetype": "text/x-python",
   "name": "python",
   "nbconvert_exporter": "python",
   "pygments_lexer": "ipython3",
   "version": "3.8.18"
  }
 },
 "nbformat": 4,
 "nbformat_minor": 2
}
